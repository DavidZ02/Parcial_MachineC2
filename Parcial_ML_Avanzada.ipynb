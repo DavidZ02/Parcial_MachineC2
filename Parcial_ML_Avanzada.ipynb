{
  "nbformat": 4,
  "nbformat_minor": 0,
  "metadata": {
    "colab": {
      "name": "Parcial_ML_Avanzada",
      "provenance": [],
      "collapsed_sections": [
        "8T-YO2asJL6C",
        "AV_QyQJaPGF8",
        "BK7NMuokPMkC",
        "yfMduiC7XkW8"
      ]
    },
    "kernelspec": {
      "name": "python3",
      "display_name": "Python 3"
    }
  },
  "cells": [
    {
      "cell_type": "markdown",
      "metadata": {
        "id": "9fBCsW3Tr7sw"
      },
      "source": [
        "<div> \n",
        "<img src=\"https://res-5.cloudinary.com/crunchbase-production/image/upload/c_lpad,h_256,w_256,f_auto,q_auto:eco/v1455514364/pim02bzqvgz0hibsra41.png\" align=\"right\"><br><br><FONT FACE=\"times new roman\" SIZE=5>\n",
        "<b>Parcial: Linear Regression </b>\n",
        "<br>\n",
        "<i><b>Autores : </b></i> David Zárate y Kevin Chepe\n",
        "<br>\n",
        "<i><b>Asignatura:</b></i> Machine Learning en Computación Avanzada\n",
        "<br>\n",
        "<i><b>Docente:</b></i> John Jairo Corredor Franco\n",
        "<br>\n",
        "<i><b>Fecha:</b></i> 25/10/21\n",
        "<br>\n",
        "</FONT>\n",
        "</div>"
      ]
    },
    {
      "cell_type": "markdown",
      "metadata": {
        "id": "8T-YO2asJL6C"
      },
      "source": [
        "#**Introduccion**\n",
        "\n",
        "Este proyecto tiene como finalidad comprender la regresion lineal en Machine Learning. Para esto se realizo un ejercicio en C++ desde Qt. Posteriormente en python se utilizo la biblioteca de SkLearn para poder implementar el mismo ejercicio realizado en C++"
      ]
    },
    {
      "cell_type": "markdown",
      "metadata": {
        "id": "AV_QyQJaPGF8"
      },
      "source": [
        "#**Biblotecas y DataSet**"
      ]
    },
    {
      "cell_type": "code",
      "metadata": {
        "id": "qV4JyVuFDF5_"
      },
      "source": [
        "import numpy as np\n",
        "import pandas as pd\n",
        "import matplotlib.pyplot as plt\n",
        "from sklearn.model_selection import train_test_split\n",
        "from sklearn.linear_model import LinearRegression\n",
        "from sklearn.model_selection import train_test_split"
      ],
      "execution_count": null,
      "outputs": []
    },
    {
      "cell_type": "code",
      "metadata": {
        "id": "86Zspq_3MgGO"
      },
      "source": [
        "url = 'https://raw.githubusercontent.com/corredor-john/universidadsergioarboleda/main/dataWineQuality.csv'"
      ],
      "execution_count": null,
      "outputs": []
    },
    {
      "cell_type": "code",
      "metadata": {
        "colab": {
          "base_uri": "https://localhost:8080/"
        },
        "id": "aVJbzpuqN64H",
        "outputId": "ab3bf80d-9b25-4a01-dc1b-b5c2b792c719"
      },
      "source": [
        "# Se guarda los datos en un DataFrame \n",
        "df_wineNoNorm = pd.read_csv(url)\n",
        "df_wineNoNorm.head()"
      ],
      "execution_count": null,
      "outputs": [
        {
          "output_type": "execute_result",
          "data": {
            "text/html": [
              "<div>\n",
              "<style scoped>\n",
              "    .dataframe tbody tr th:only-of-type {\n",
              "        vertical-align: middle;\n",
              "    }\n",
              "\n",
              "    .dataframe tbody tr th {\n",
              "        vertical-align: top;\n",
              "    }\n",
              "\n",
              "    .dataframe thead th {\n",
              "        text-align: right;\n",
              "    }\n",
              "</style>\n",
              "<table border=\"1\" class=\"dataframe\">\n",
              "  <thead>\n",
              "    <tr style=\"text-align: right;\">\n",
              "      <th></th>\n",
              "      <th>fixed acidity</th>\n",
              "      <th>volatile acidity</th>\n",
              "      <th>citric acid</th>\n",
              "      <th>residual sugar</th>\n",
              "      <th>chlorides</th>\n",
              "      <th>free sulfur dioxide</th>\n",
              "      <th>total sulfur dioxide</th>\n",
              "      <th>density</th>\n",
              "      <th>pH</th>\n",
              "      <th>sulphates</th>\n",
              "      <th>alcohol</th>\n",
              "      <th>quality</th>\n",
              "    </tr>\n",
              "  </thead>\n",
              "  <tbody>\n",
              "    <tr>\n",
              "      <th>0</th>\n",
              "      <td>7.4</td>\n",
              "      <td>0.70</td>\n",
              "      <td>0.00</td>\n",
              "      <td>1.9</td>\n",
              "      <td>0.076</td>\n",
              "      <td>11.0</td>\n",
              "      <td>34.0</td>\n",
              "      <td>0.9978</td>\n",
              "      <td>3.51</td>\n",
              "      <td>0.56</td>\n",
              "      <td>9.4</td>\n",
              "      <td>5</td>\n",
              "    </tr>\n",
              "    <tr>\n",
              "      <th>1</th>\n",
              "      <td>7.8</td>\n",
              "      <td>0.88</td>\n",
              "      <td>0.00</td>\n",
              "      <td>2.6</td>\n",
              "      <td>0.098</td>\n",
              "      <td>25.0</td>\n",
              "      <td>67.0</td>\n",
              "      <td>0.9968</td>\n",
              "      <td>3.20</td>\n",
              "      <td>0.68</td>\n",
              "      <td>9.8</td>\n",
              "      <td>5</td>\n",
              "    </tr>\n",
              "    <tr>\n",
              "      <th>2</th>\n",
              "      <td>7.8</td>\n",
              "      <td>0.76</td>\n",
              "      <td>0.04</td>\n",
              "      <td>2.3</td>\n",
              "      <td>0.092</td>\n",
              "      <td>15.0</td>\n",
              "      <td>54.0</td>\n",
              "      <td>0.9970</td>\n",
              "      <td>3.26</td>\n",
              "      <td>0.65</td>\n",
              "      <td>9.8</td>\n",
              "      <td>5</td>\n",
              "    </tr>\n",
              "    <tr>\n",
              "      <th>3</th>\n",
              "      <td>11.2</td>\n",
              "      <td>0.28</td>\n",
              "      <td>0.56</td>\n",
              "      <td>1.9</td>\n",
              "      <td>0.075</td>\n",
              "      <td>17.0</td>\n",
              "      <td>60.0</td>\n",
              "      <td>0.9980</td>\n",
              "      <td>3.16</td>\n",
              "      <td>0.58</td>\n",
              "      <td>9.8</td>\n",
              "      <td>6</td>\n",
              "    </tr>\n",
              "    <tr>\n",
              "      <th>4</th>\n",
              "      <td>7.4</td>\n",
              "      <td>0.70</td>\n",
              "      <td>0.00</td>\n",
              "      <td>1.9</td>\n",
              "      <td>0.076</td>\n",
              "      <td>11.0</td>\n",
              "      <td>34.0</td>\n",
              "      <td>0.9978</td>\n",
              "      <td>3.51</td>\n",
              "      <td>0.56</td>\n",
              "      <td>9.4</td>\n",
              "      <td>5</td>\n",
              "    </tr>\n",
              "  </tbody>\n",
              "</table>\n",
              "</div>"
            ],
            "text/plain": [
              "   fixed acidity  volatile acidity  citric acid  ...  sulphates  alcohol  quality\n",
              "0            7.4              0.70         0.00  ...       0.56      9.4        5\n",
              "1            7.8              0.88         0.00  ...       0.68      9.8        5\n",
              "2            7.8              0.76         0.04  ...       0.65      9.8        5\n",
              "3           11.2              0.28         0.56  ...       0.58      9.8        6\n",
              "4            7.4              0.70         0.00  ...       0.56      9.4        5\n",
              "\n",
              "[5 rows x 12 columns]"
            ]
          },
          "metadata": {},
          "execution_count": 97
        }
      ]
    },
    {
      "cell_type": "markdown",
      "metadata": {
        "id": "BK7NMuokPMkC"
      },
      "source": [
        "# **DataFrame WineNoNorm**"
      ]
    },
    {
      "cell_type": "markdown",
      "metadata": {
        "id": "7VviOpJyWJFs"
      },
      "source": [
        "**Se hace un breve resumen de cada uno de las características, mostrando cada una de las vairables dependientes e independientes**"
      ]
    },
    {
      "cell_type": "code",
      "metadata": {
        "colab": {
          "base_uri": "https://localhost:8080/"
        },
        "id": "nbQT5brNi01b",
        "outputId": "cb03597a-79df-4dcd-8df1-7affa7a05c77"
      },
      "source": [
        "df_wineNoNorm.keys()"
      ],
      "execution_count": null,
      "outputs": [
        {
          "output_type": "execute_result",
          "data": {
            "text/plain": [
              "Index(['fixed acidity', 'volatile acidity', 'citric acid', 'residual sugar',\n",
              "       'chlorides', 'free sulfur dioxide', 'total sulfur dioxide', 'density',\n",
              "       'pH', 'sulphates', 'alcohol', 'quality'],\n",
              "      dtype='object')"
            ]
          },
          "metadata": {},
          "execution_count": 98
        }
      ]
    },
    {
      "cell_type": "markdown",
      "metadata": {
        "id": "qRjX5ZoTj1nA"
      },
      "source": [
        "**Imprimos la cantidad de datos que tiene el DataFrame**"
      ]
    },
    {
      "cell_type": "code",
      "metadata": {
        "colab": {
          "base_uri": "https://localhost:8080/"
        },
        "id": "XH8pF_9UOTT6",
        "outputId": "fd09b5cc-5f89-40e6-f062-65e1885a2923"
      },
      "source": [
        "df_wineNoNorm.shape"
      ],
      "execution_count": null,
      "outputs": [
        {
          "output_type": "execute_result",
          "data": {
            "text/plain": [
              "(1599, 12)"
            ]
          },
          "metadata": {},
          "execution_count": 99
        }
      ]
    },
    {
      "cell_type": "markdown",
      "metadata": {
        "id": "KL3N_BJxhj2L"
      },
      "source": [
        "**Se crea una lista con el promedio de cada una de las caracteristicas**"
      ]
    },
    {
      "cell_type": "code",
      "metadata": {
        "colab": {
          "base_uri": "https://localhost:8080/"
        },
        "id": "dIneWecnTxv-",
        "outputId": "6e42138d-68bc-4380-b926-d6846cf4163c"
      },
      "source": [
        "promedioL = list()\n",
        "for x in range(12):\n",
        "  promedioL.append(round(df_wineNoNorm.iloc[:,x].mean(),3))\n",
        "promedioL"
      ],
      "execution_count": null,
      "outputs": [
        {
          "output_type": "execute_result",
          "data": {
            "text/plain": [
              "[8.32,\n",
              " 0.528,\n",
              " 0.271,\n",
              " 2.539,\n",
              " 0.087,\n",
              " 15.875,\n",
              " 46.468,\n",
              " 0.997,\n",
              " 3.311,\n",
              " 0.658,\n",
              " 10.423,\n",
              " 5.636]"
            ]
          },
          "metadata": {},
          "execution_count": 100
        }
      ]
    },
    {
      "cell_type": "markdown",
      "metadata": {
        "id": "6lv4rvJhhr74"
      },
      "source": [
        "**Se crea una lista con la desviacion de cada una de las caracteristicas**"
      ]
    },
    {
      "cell_type": "code",
      "metadata": {
        "colab": {
          "base_uri": "https://localhost:8080/"
        },
        "id": "RfBf7S-GhrRm",
        "outputId": "c16dee38-0f55-4343-d070-3a420a26dbd3"
      },
      "source": [
        "stdL = list()\n",
        "for w in range(12):\n",
        "  stdL.append(round(df_wineNoNorm.iloc[:,w].std(),3))\n",
        "stdL"
      ],
      "execution_count": null,
      "outputs": [
        {
          "output_type": "execute_result",
          "data": {
            "text/plain": [
              "[1.741,\n",
              " 0.179,\n",
              " 0.195,\n",
              " 1.41,\n",
              " 0.047,\n",
              " 10.46,\n",
              " 32.895,\n",
              " 0.002,\n",
              " 0.154,\n",
              " 0.17,\n",
              " 1.066,\n",
              " 0.808]"
            ]
          },
          "metadata": {},
          "execution_count": 101
        }
      ]
    },
    {
      "cell_type": "markdown",
      "metadata": {
        "id": "yfMduiC7XkW8"
      },
      "source": [
        "# **Linear Regression**"
      ]
    },
    {
      "cell_type": "markdown",
      "metadata": {
        "id": "LihXe0hBZj02"
      },
      "source": [
        "**Se asignan nuestras variables independientes y la variable depentiente**"
      ]
    },
    {
      "cell_type": "code",
      "metadata": {
        "id": "11YZsJeNXnA-"
      },
      "source": [
        "LR_multiple = LinearRegression()\n",
        "X_muestra = df_wineNoNorm.iloc[:,0:11]\n",
        "Y_muestra = df_wineNoNorm.iloc[:,-1]"
      ],
      "execution_count": null,
      "outputs": []
    },
    {
      "cell_type": "markdown",
      "metadata": {
        "id": "8y0xzWwjZwel"
      },
      "source": [
        "**Se realiza un modelo de entrenamiento a los datos**"
      ]
    },
    {
      "cell_type": "code",
      "metadata": {
        "id": "nLHW4oKgZzac"
      },
      "source": [
        "X_train, X_test, y_train, y_test = train_test_split(X_muestra, Y_muestra)"
      ],
      "execution_count": null,
      "outputs": []
    },
    {
      "cell_type": "markdown",
      "metadata": {
        "id": "d5_kqrUnb3N6"
      },
      "source": [
        "**Se inicializa el modelo**"
      ]
    },
    {
      "cell_type": "code",
      "metadata": {
        "colab": {
          "base_uri": "https://localhost:8080/",
          "height": 167
        },
        "id": "ZxpX3h8ebqJQ",
        "outputId": "e2cbb1e2-29c2-448d-8b8f-60bc97094c69"
      },
      "source": [
        "LR_multiple.fit(X_muestra, Y_muestra)"
      ],
      "execution_count": null,
      "outputs": [
        {
          "output_type": "error",
          "ename": "NameError",
          "evalue": "ignored",
          "traceback": [
            "\u001b[0;31m---------------------------------------------------------------------------\u001b[0m",
            "\u001b[0;31mNameError\u001b[0m                                 Traceback (most recent call last)",
            "\u001b[0;32m<ipython-input-104-2bf569976304>\u001b[0m in \u001b[0;36m<module>\u001b[0;34m()\u001b[0m\n\u001b[0;32m----> 1\u001b[0;31m \u001b[0mLR_multiple\u001b[0m\u001b[0;34m.\u001b[0m\u001b[0mfit\u001b[0m\u001b[0;34m(\u001b[0m\u001b[0mX_muestra\u001b[0m\u001b[0;34m,\u001b[0m \u001b[0mY_muestra\u001b[0m\u001b[0;34m)\u001b[0m\u001b[0;34m\u001b[0m\u001b[0;34m\u001b[0m\u001b[0m\n\u001b[0m",
            "\u001b[0;31mNameError\u001b[0m: name 'LR_multiple' is not defined"
          ]
        }
      ]
    },
    {
      "cell_type": "markdown",
      "metadata": {
        "id": "F_c_R6zwZ2uH"
      },
      "source": [
        "**Se realiza el calculo de la interseccion(b) y de la pendiente(m), para asi imprimir dichos valores**\n"
      ]
    },
    {
      "cell_type": "code",
      "metadata": {
        "id": "9EXA6uMSb9HF"
      },
      "source": [
        "print('DATOS DEL MODELO REGRESIÓN LINEAL MULTIPLE')\n",
        "print()\n",
        "print('Valor de las pendientes o coeficientes \"a\":')\n",
        "for c in range(11):\n",
        "  print(round(LR_multiple.coef_[c],3))\n",
        "print('Valor de la intersección o coeficiente \"b\":')\n",
        "print(LR_multiple.intercept_)"
      ],
      "execution_count": null,
      "outputs": []
    },
    {
      "cell_type": "code",
      "metadata": {
        "id": "9tEiOj9xq5qK"
      },
      "source": [
        "class LinearRegressionGD(object):\n",
        "    \n",
        "    def __init__(self, l_rate = 0.1, n_iter =10000):\n",
        "        self.l_rate = l_rate\n",
        "        self.n_iter = n_iter               \n",
        "        \n",
        "    def fit(self, X, y, theta):\n",
        "        self.theta = theta\n",
        "        X_value = X[:,1].reshape(-1, 1)\n",
        "        const = self.l_rate*(1/X.shape[0])        \n",
        "        for i in range(0, self.n_iter):\n",
        "            h = X.dot(self.theta)            \n",
        "            self.theta[0] = self.theta[0]-const*sum(h-y)\n",
        "            self.theta[1] = self.theta[1]-const*sum((h-y).transpose().dot(X_value))            \n",
        "        return self.theta\n",
        "    \n",
        "    def predict(self, X):\n",
        "        X_test = X[:, 1]\n",
        "        predict_value = X_test*self.theta[1]+self.theta[0]\n",
        "        return predict_value   "
      ],
      "execution_count": null,
      "outputs": []
    },
    {
      "cell_type": "code",
      "metadata": {
        "id": "CvtgOrSishQS"
      },
      "source": [
        "\n",
        "X_muestra = df_wineNoNorm.iloc[:,0:11]\n",
        "Y_muestra = df_wineNoNorm.iloc[:,-1]\n",
        "\n",
        "from sklearn.model_selection import train_test_split\n",
        "\n",
        "X_train, X_test, y_train, y_test = train_test_split(X_muestra, Y_muestra, test_size = 0.25,random_state = 0)"
      ],
      "execution_count": null,
      "outputs": []
    },
    {
      "cell_type": "code",
      "metadata": {
        "id": "Q7diGfSJxHQ5"
      },
      "source": [
        "def theta(x,y,m,theta):  \n",
        "  X = x\n",
        "  Y = y\n",
        "  M = m\n",
        "  squErrs = []\n",
        "  for i in range(11):  \n",
        "    hypoth = theta*X[i,:]\n",
        "    Xi_error = (hypoth-y[i])**2\n",
        "    squErrs.append(Xi_error)\n",
        "\n",
        "  jTheta = (1/(2*m))*sum(squErrs)\n",
        "\n",
        "  return jTheta"
      ],
      "execution_count": null,
      "outputs": []
    },
    {
      "cell_type": "code",
      "metadata": {
        "id": "GZmZ6ufZZ6YN"
      },
      "source": [
        "X = X_train.values\n",
        "y = y_test.values\n",
        "m = 1200\n",
        "theta = 0.13\n",
        "squErrs = []\n",
        "\n",
        "for i in range(12):\n",
        "  hypoth = theta*X[i,:]\n",
        "  Xi_error = (hypoth-y[i])**2\n",
        "  squErrs.append(Xi_error)\n",
        "\n",
        "  jTheta = (1/(2*m))*sum(squErrs)\n",
        "print(jTheta)"
      ],
      "execution_count": null,
      "outputs": []
    }
  ]
}